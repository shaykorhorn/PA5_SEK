{
 "cells": [
  {
   "cell_type": "markdown",
   "id": "285482d2",
   "metadata": {},
   "source": [
    "* Shay Korhorn\n",
    "* CS-150-01\n",
    "* PA5\n",
    "* Fall 2023"
   ]
  },
  {
   "cell_type": "markdown",
   "id": "3f872d18",
   "metadata": {},
   "source": [
    "# Programming Assignment 5: Loop and Dictionary"
   ]
  },
  {
   "cell_type": "markdown",
   "id": "34ff5886",
   "metadata": {},
   "source": [
    "# Task 1: Language Translator"
   ]
  },
  {
   "cell_type": "code",
   "execution_count": 1,
   "id": "2ea660e7",
   "metadata": {},
   "outputs": [
    {
     "name": "stdout",
     "output_type": "stream",
     "text": [
      "Enter a word to translate from English to Irish (enter 0 to stop):\n",
      "Catch\n",
      "The Irish word for CATCH is not in this dictionary.\n",
      "Enter a word to translate from English to Irish (enter 0 to stop):\n",
      "chair\n",
      "The Irish word for CHAIR is CATHAOIR.\n",
      "Enter a word to translate from English to Irish (enter 0 to stop):\n",
      "chair\n",
      "The Irish word for CHAIR is CATHAOIR.\n",
      "Enter a word to translate from English to Irish (enter 0 to stop):\n",
      "0\n"
     ]
    }
   ],
   "source": [
    "translation_dict = {\n",
    "    'couch': 'outside this dictionary',\n",
    "    'chair': 'CATHAOIR',\n",
    "    'cat': 'not in this dictionary',\n",
    "    'dog': 'not in this dictionary',\n",
    "}\n",
    "\n",
    "\n",
    "def translate_word(word):\n",
    "    if word in translation_dict:\n",
    "        return f'The Irish word for {word.upper()} is {translation_dict[word]}.'\n",
    "    else:\n",
    "        return f'The Irish word for {word.upper()} is not in this dictionary.'\n",
    "\n",
    "\n",
    "while True:\n",
    "    word = input(\"Enter a word to translate from English to Irish (enter 0 to stop):\\n\")\n",
    "    if word == '0':\n",
    "        break\n",
    "    result = translate_word(word.lower())\n",
    "    print(result)"
   ]
  },
  {
   "cell_type": "markdown",
   "id": "40e92a30",
   "metadata": {},
   "source": [
    "# Task 2: Temperature converter"
   ]
  },
  {
   "cell_type": "code",
   "execution_count": 2,
   "id": "75ae9c01",
   "metadata": {},
   "outputs": [
    {
     "name": "stdout",
     "output_type": "stream",
     "text": [
      "Day1: 31.666666666666668°C\n",
      "Day2: 24.444444444444443°C\n"
     ]
    }
   ],
   "source": [
    "temp_dict = {\n",
    "    \"Day1\": 89,\n",
    "    \"Day2\": 76,\n",
    "}\n",
    "\n",
    "for day, temp_fahrenheit in temp_dict.items():\n",
    "    temp_celsius = (temp_fahrenheit - 32) * 5/9\n",
    "    temp_dict[day] = temp_celsius\n",
    "\n",
    "for day, temp_celsius in temp_dict.items():\n",
    "    print(f\"{day}: {temp_celsius}°C\")"
   ]
  },
  {
   "cell_type": "markdown",
   "id": "f1c94f9d",
   "metadata": {},
   "source": [
    "# Task 3:\n",
    "### Write a Python script to create a dictionary where the keys are numbers between 1 and 15 (both included) and the values are the squares of the keys."
   ]
  },
  {
   "cell_type": "code",
   "execution_count": 3,
   "id": "093dd1b8",
   "metadata": {},
   "outputs": [
    {
     "name": "stdout",
     "output_type": "stream",
     "text": [
      "{1: 1, 2: 4, 3: 9, 4: 16, 5: 25, 6: 36, 7: 49, 8: 64, 9: 81, 10: 100, 11: 121, 12: 144, 13: 169, 14: 196, 15: 225}\n"
     ]
    }
   ],
   "source": [
    "square_dict = {}\n",
    "\n",
    "for number in range(1, 16):\n",
    "    square_dict[number] = number ** 2\n",
    "\n",
    "print(square_dict)"
   ]
  },
  {
   "cell_type": "markdown",
   "id": "1db50c4a",
   "metadata": {},
   "source": [
    "# Task 4: User Profile Dictionary"
   ]
  },
  {
   "cell_type": "code",
   "execution_count": 6,
   "id": "979c31af",
   "metadata": {},
   "outputs": [
    {
     "name": "stdout",
     "output_type": "stream",
     "text": [
      "Enter your name (or 0 to exit): Shay\n",
      "Enter your age: 19\n",
      "Enter your email: skorhorn@bellarmine.edu\n",
      "Enter your city: Joliet\n",
      "Enter your name (or 0 to exit): 0\n",
      "Enter a name to search for a user's profile: Shay\n",
      "User Profile for Shay:\n",
      "Name: Shay\n",
      "Age: 19\n",
      "Email: skorhorn@bellarmine.edu\n",
      "City: Joliet\n"
     ]
    }
   ],
   "source": [
    "user_profiles = {}\n",
    "\n",
    "while True:\n",
    "    name = input(\"Enter your name (or 0 to exit): \")\n",
    "    \n",
    "    if name == '0':\n",
    "        break\n",
    "    \n",
    "    age = input(\"Enter your age: \")\n",
    "    email = input(\"Enter your email: \")\n",
    "    city = input(\"Enter your city: \")\n",
    "\n",
    "    user_profiles[name] = {'age': age, 'email': email, 'city': city}\n",
    "\n",
    "search_name = input(\"Enter a name to search for a user's profile: \")\n",
    "if search_name in user_profiles:\n",
    "    profile = user_profiles[search_name]\n",
    "    print(f\"User Profile for {search_name}:\")\n",
    "    print(f\"Name: {search_name}\")\n",
    "    print(f\"Age: {profile['age']}\")\n",
    "    print(f\"Email: {profile['email']}\")\n",
    "    print(f\"City: {profile['city']}\")\n",
    "else:\n",
    "    print(f\"User '{search_name}' not found in the user profiles.\")\n"
   ]
  }
 ],
 "metadata": {
  "kernelspec": {
   "display_name": "Python 3 (ipykernel)",
   "language": "python",
   "name": "python3"
  },
  "language_info": {
   "codemirror_mode": {
    "name": "ipython",
    "version": 3
   },
   "file_extension": ".py",
   "mimetype": "text/x-python",
   "name": "python",
   "nbconvert_exporter": "python",
   "pygments_lexer": "ipython3",
   "version": "3.11.4"
  }
 },
 "nbformat": 4,
 "nbformat_minor": 5
}
